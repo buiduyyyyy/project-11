{
  "metadata": {
    "language_info": {
      "codemirror_mode": {
        "name": "python",
        "version": 3
      },
      "file_extension": ".py",
      "mimetype": "text/x-python",
      "name": "python",
      "nbconvert_exporter": "python",
      "pygments_lexer": "ipython3",
      "version": "3.8"
    },
    "kernelspec": {
      "name": "python",
      "display_name": "Python (Pyodide)",
      "language": "python"
    }
  },
  "nbformat_minor": 4,
  "nbformat": 4,
  "cells": [
    {
      "cell_type": "code",
      "source": "student = {'name':'Peter', 'age': 25}\nstudent2 = {'name':'Anna', 'age': 22}",
      "metadata": {
        "trusted": true
      },
      "execution_count": 12,
      "outputs": []
    },
    {
      "cell_type": "code",
      "source": "def tell_me_if_student_is_old(x):\n    if x['age'] > 24:\n        print('Old student')\n    else:\n        print('Young student')",
      "metadata": {
        "trusted": true
      },
      "execution_count": 10,
      "outputs": []
    },
    {
      "cell_type": "code",
      "source": "tell_me_if_student_is_old(student)",
      "metadata": {
        "trusted": true
      },
      "execution_count": 11,
      "outputs": [
        {
          "name": "stdout",
          "text": "Old student\n",
          "output_type": "stream"
        }
      ]
    },
    {
      "cell_type": "code",
      "source": "tell_me_if_student_is_old(student2)",
      "metadata": {
        "trusted": true
      },
      "execution_count": 13,
      "outputs": [
        {
          "name": "stdout",
          "text": "Young student\n",
          "output_type": "stream"
        }
      ]
    },
    {
      "cell_type": "code",
      "source": "student3 = {'name':'Eve', 'age': 21}\n",
      "metadata": {
        "trusted": true
      },
      "execution_count": 14,
      "outputs": []
    },
    {
      "cell_type": "code",
      "source": "tell_me_if_student_is_old(student3)",
      "metadata": {
        "trusted": true
      },
      "execution_count": 15,
      "outputs": [
        {
          "name": "stdout",
          "text": "Young student\n",
          "output_type": "stream"
        }
      ]
    },
    {
      "cell_type": "code",
      "source": "def say_hello():\n    print('hello')",
      "metadata": {
        "trusted": true
      },
      "execution_count": 18,
      "outputs": []
    },
    {
      "cell_type": "code",
      "source": "say_hello()",
      "metadata": {
        "trusted": true
      },
      "execution_count": 19,
      "outputs": [
        {
          "name": "stdout",
          "text": "hello\n",
          "output_type": "stream"
        }
      ]
    },
    {
      "cell_type": "code",
      "source": "say_hello()",
      "metadata": {
        "trusted": true
      },
      "execution_count": 20,
      "outputs": [
        {
          "name": "stdout",
          "text": "hello\n",
          "output_type": "stream"
        }
      ]
    },
    {
      "cell_type": "code",
      "source": "def greeting(name):\n    print('Hello', name)",
      "metadata": {
        "trusted": true
      },
      "execution_count": 21,
      "outputs": []
    },
    {
      "cell_type": "code",
      "source": "greeting('Peter')",
      "metadata": {
        "trusted": true
      },
      "execution_count": 22,
      "outputs": [
        {
          "name": "stdout",
          "text": "Hello Peter\n",
          "output_type": "stream"
        }
      ]
    },
    {
      "cell_type": "code",
      "source": "greeting('Tom')",
      "metadata": {
        "trusted": true
      },
      "execution_count": 23,
      "outputs": [
        {
          "name": "stdout",
          "text": "Hello Tom\n",
          "output_type": "stream"
        }
      ]
    },
    {
      "cell_type": "code",
      "source": "def add_return(a, b):\n    return a + b",
      "metadata": {
        "trusted": true
      },
      "execution_count": 36,
      "outputs": []
    },
    {
      "cell_type": "code",
      "source": "result = add_return(2,3)",
      "metadata": {
        "trusted": true
      },
      "execution_count": 46,
      "outputs": []
    },
    {
      "cell_type": "code",
      "source": "print(result)",
      "metadata": {
        "trusted": true
      },
      "execution_count": 47,
      "outputs": [
        {
          "name": "stdout",
          "text": "5\n",
          "output_type": "stream"
        }
      ]
    },
    {
      "cell_type": "code",
      "source": "def add_print(a,b):\n    print(a+b)\n",
      "metadata": {
        "trusted": true
      },
      "execution_count": 41,
      "outputs": []
    },
    {
      "cell_type": "code",
      "source": "add_print(1,4)",
      "metadata": {
        "trusted": true
      },
      "execution_count": 42,
      "outputs": [
        {
          "name": "stdout",
          "text": "5\n",
          "output_type": "stream"
        }
      ]
    },
    {
      "cell_type": "code",
      "source": "result = add_print(3,5)",
      "metadata": {
        "trusted": true
      },
      "execution_count": 43,
      "outputs": [
        {
          "name": "stdout",
          "text": "8\n",
          "output_type": "stream"
        }
      ]
    },
    {
      "cell_type": "code",
      "source": "result",
      "metadata": {
        "trusted": true
      },
      "execution_count": 44,
      "outputs": []
    },
    {
      "cell_type": "code",
      "source": "print(result)",
      "metadata": {
        "trusted": true
      },
      "execution_count": 45,
      "outputs": [
        {
          "name": "stdout",
          "text": "None\n",
          "output_type": "stream"
        }
      ]
    },
    {
      "cell_type": "code",
      "source": "def even_check(number):\n    return number % 2 == 0",
      "metadata": {
        "trusted": true
      },
      "execution_count": 48,
      "outputs": []
    },
    {
      "cell_type": "code",
      "source": "even_check(3)",
      "metadata": {
        "trusted": true
      },
      "execution_count": 50,
      "outputs": [
        {
          "execution_count": 50,
          "output_type": "execute_result",
          "data": {
            "text/plain": "False"
          },
          "metadata": {}
        }
      ]
    },
    {
      "cell_type": "code",
      "source": "even_check_formatted(4)",
      "metadata": {
        "trusted": true
      },
      "execution_count": 53,
      "outputs": [
        {
          "name": "stdout",
          "text": "It is even\n",
          "output_type": "stream"
        }
      ]
    },
    {
      "cell_type": "code",
      "source": "def even_check_formatted(number):\n    if even_check(number):\n        print('It is even')\n    else:\n        print('It is odd')\n        \n        \n        ",
      "metadata": {
        "trusted": true
      },
      "execution_count": 61,
      "outputs": []
    },
    {
      "cell_type": "code",
      "source": "even_check_formatted(4)",
      "metadata": {
        "trusted": true
      },
      "execution_count": 55,
      "outputs": [
        {
          "name": "stdout",
          "text": "It is even\n",
          "output_type": "stream"
        }
      ]
    },
    {
      "cell_type": "code",
      "source": "def say_even():\n    print('It is even')\n    \n    ",
      "metadata": {
        "trusted": true
      },
      "execution_count": 56,
      "outputs": []
    },
    {
      "cell_type": "code",
      "source": "def powiedz_nieparzysta():\n    print('It is odd')",
      "metadata": {
        "trusted": true
      },
      "execution_count": 57,
      "outputs": []
    },
    {
      "cell_type": "code",
      "source": "def even_check_formatted(number):\n    if even_check(number):\n        say_even()\n    else:\n        powiedz_nieparzysta()",
      "metadata": {
        "trusted": true
      },
      "execution_count": 58,
      "outputs": []
    },
    {
      "cell_type": "code",
      "source": "even_check_formatted(4)",
      "metadata": {
        "trusted": true
      },
      "execution_count": 59,
      "outputs": [
        {
          "name": "stdout",
          "text": "It is even\n",
          "output_type": "stream"
        }
      ]
    },
    {
      "cell_type": "code",
      "source": "def odd_check_formatted(number):\n    if not even_check(number):\n        print('It is even')\n    else:\n        print('It is odd')",
      "metadata": {},
      "execution_count": null,
      "outputs": []
    },
    {
      "cell_type": "code",
      "source": "# We want to have information if the list contains and odd number\ndef any_odd_number(numbers):\n    for number in numbers:\n        return not even_check(number)\n",
      "metadata": {
        "trusted": true
      },
      "execution_count": 71,
      "outputs": []
    },
    {
      "cell_type": "code",
      "source": "numbers = [1, 3, 5]\nnumbers = [2, 4, 6]\n\nresult = any_odd_number(numbers)\nprint(result)",
      "metadata": {
        "trusted": true
      },
      "execution_count": 75,
      "outputs": [
        {
          "name": "stdout",
          "text": "True\n",
          "output_type": "stream"
        }
      ]
    },
    {
      "cell_type": "code",
      "source": "# We want to have information if the list contains at least one odd number\ndef any_odd_number(numbers):\n    result = True\n    for number in numbers:\n        result = even_check(number)\n    return result    ",
      "metadata": {},
      "execution_count": null,
      "outputs": []
    }
  ]
}